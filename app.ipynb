{
  "nbformat": 4,
  "nbformat_minor": 0,
  "metadata": {
    "colab": {
      "name": "Untitled2.ipynb",
      "version": "0.3.2",
      "provenance": [],
      "collapsed_sections": [],
      "include_colab_link": true
    },
    "kernelspec": {
      "name": "python3",
      "display_name": "Python 3"
    }
  },
  "cells": [
    {
      "cell_type": "markdown",
      "metadata": {
        "id": "view-in-github",
        "colab_type": "text"
      },
      "source": [
        "<a href=\"https://colab.research.google.com/github/Navan0/Build-your-first-ML-app/blob/master/app.ipynb\" target=\"_parent\"><img src=\"https://colab.research.google.com/assets/colab-badge.svg\" alt=\"Open In Colab\"/></a>"
      ]
    },
    {
      "metadata": {
        "id": "H4H6j4B63x2N",
        "colab_type": "text"
      },
      "cell_type": "markdown",
      "source": [
        "# Step 1: Install Python\n",
        "\n",
        "```\n",
        "python –version\n",
        "\n",
        "```\n",
        "# Step 2: Install Pip\n",
        "\n",
        "```\n",
        "sudo apt-get install python-pip\n",
        "\n",
        "```\n",
        "\n",
        "# Step 3: Install NumPy & SciPy\n",
        "\n",
        "\n",
        "```\n",
        "sudo pip install numpy scipy\n",
        "```\n",
        "# Step 4: Install scikit-learn\n",
        "\n",
        "\n",
        "```\n",
        "pip install scikit-learn\n",
        "\n",
        "\n",
        "```\n",
        "# Step 5: Test Installation\n",
        "\n",
        "\n",
        "```\n",
        "python\n",
        ">> import sklearn\n",
        "\n",
        "```\n",
        "\n",
        "\n",
        "\n",
        "\n",
        "\n",
        "\n"
      ]
    },
    {
      "metadata": {
        "id": "L2BP3vUXwU0T",
        "colab_type": "code",
        "colab": {}
      },
      "cell_type": "code",
      "source": [
        "import sklearn # import scikit learn\n",
        "\n",
        "from sklearn import tree #import tree"
      ],
      "execution_count": 0,
      "outputs": []
    },
    {
      "metadata": {
        "id": "f6piim5Dw8r2",
        "colab_type": "code",
        "colab": {}
      },
      "cell_type": "code",
      "source": [
        "features = [[140, 1], [130, 2], [120, 1], [170, 2],  [130, 2], [130, 1], [160, 2], ] "
      ],
      "execution_count": 0,
      "outputs": []
    },
    {
      "metadata": {
        "id": "PDaWcVyqxg-A",
        "colab_type": "code",
        "colab": {}
      },
      "cell_type": "code",
      "source": [
        "labels = [[\"apple\"], [\"orange\"], [\"apple\"], [\"orange\"], [\"orange\"], [\"apple\"], [\"orange\"], ]"
      ],
      "execution_count": 0,
      "outputs": []
    },
    {
      "metadata": {
        "id": "1sv8dtWpyF_b",
        "colab_type": "code",
        "colab": {}
      },
      "cell_type": "code",
      "source": [
        "clf = tree.DecisionTreeClassifier()\n"
      ],
      "execution_count": 0,
      "outputs": []
    },
    {
      "metadata": {
        "id": "HPKAbo3zyzh1",
        "colab_type": "code",
        "colab": {}
      },
      "cell_type": "code",
      "source": [
        "clf = clf.fit(features,labels)"
      ],
      "execution_count": 0,
      "outputs": []
    },
    {
      "metadata": {
        "id": "ghwj1BVCzcl_",
        "colab_type": "code",
        "colab": {}
      },
      "cell_type": "code",
      "source": [
        "print(clf.predict([[130,2]]))"
      ],
      "execution_count": 0,
      "outputs": []
    }
  ]
}